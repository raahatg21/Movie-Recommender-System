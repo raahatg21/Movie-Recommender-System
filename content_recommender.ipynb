{
  "nbformat": 4,
  "nbformat_minor": 0,
  "metadata": {
    "colab": {
      "name": "content_recommender.ipynb",
      "provenance": [],
      "collapsed_sections": [],
      "include_colab_link": true
    },
    "kernelspec": {
      "name": "python3",
      "display_name": "Python 3"
    },
    "accelerator": "GPU"
  },
  "cells": [
    {
      "cell_type": "markdown",
      "metadata": {
        "id": "view-in-github",
        "colab_type": "text"
      },
      "source": [
        "<a href=\"https://colab.research.google.com/github/raahatg21/Movie-Recommender-System/blob/master/content_recommender.ipynb\" target=\"_parent\"><img src=\"https://colab.research.google.com/assets/colab-badge.svg\" alt=\"Open In Colab\"/></a>"
      ]
    },
    {
      "cell_type": "markdown",
      "metadata": {
        "id": "MWpRWD3c7Qgt",
        "colab_type": "text"
      },
      "source": [
        "# Content based Recommender System of Movies"
      ]
    },
    {
      "cell_type": "markdown",
      "metadata": {
        "id": "-Pr39CBo7R_z",
        "colab_type": "text"
      },
      "source": [
        "Content-based recommenders suggest similar items based on a particular item. This system uses item metadata, such as genre, director, description, actors, etc. for movies, to make these recommendations. The general idea behind these recommender systems is that if a person liked a particular item, he or she will also like an item that is similar to it.\n",
        "\n",
        "We use the dataset of all movies in IMDB (derived by MovieLens 20M Dataset)."
      ]
    },
    {
      "cell_type": "markdown",
      "metadata": {
        "id": "GJUj6n1O7SdL",
        "colab_type": "text"
      },
      "source": [
        "## Plot Description based Recommender"
      ]
    },
    {
      "cell_type": "markdown",
      "metadata": {
        "id": "_HYlWCjl7obs",
        "colab_type": "text"
      },
      "source": [
        "### Workflow\n",
        "\n",
        "- Select the 'overview' of each movie\n",
        "- Convert it into TF-IDF vectors and construct TF-IDF matrix\n",
        "- Calculate the similarity score using cosine similarity\n",
        "- User inputs a movie title\n",
        "  - We find similarity scores of all movies w.r.t. that title\n",
        "  - Sort them\n",
        "  - Select the 10 most similar movies to input movie"
      ]
    },
    {
      "cell_type": "code",
      "metadata": {
        "id": "shPfGkI27VIP",
        "colab_type": "code",
        "colab": {}
      },
      "source": [
        "import pandas as pd\n",
        "import numpy as np\n",
        "import os"
      ],
      "execution_count": 0,
      "outputs": []
    },
    {
      "cell_type": "code",
      "metadata": {
        "id": "fgIKksl07DPQ",
        "colab_type": "code",
        "outputId": "ca2f133f-56dc-4b23-d463-58253c72846d",
        "colab": {
          "base_uri": "https://localhost:8080/",
          "height": 34
        }
      },
      "source": [
        "# Mounting Google Drive\n",
        "\n",
        "from google.colab import drive\n",
        "drive.mount('/content/drive')"
      ],
      "execution_count": 0,
      "outputs": [
        {
          "output_type": "stream",
          "text": [
            "Drive already mounted at /content/drive; to attempt to forcibly remount, call drive.mount(\"/content/drive\", force_remount=True).\n"
          ],
          "name": "stdout"
        }
      ]
    },
    {
      "cell_type": "code",
      "metadata": {
        "id": "fModGL057VqU",
        "colab_type": "code",
        "colab": {}
      },
      "source": [
        "BASE_DIR = '/content/drive/My Drive/Recommender System/the-movies-dataset'"
      ],
      "execution_count": 0,
      "outputs": []
    },
    {
      "cell_type": "code",
      "metadata": {
        "id": "4YWkm9Bj7Xyt",
        "colab_type": "code",
        "colab": {}
      },
      "source": [
        "metadata_path = os.path.join(BASE_DIR, 'movies_metadata.csv')\n",
        "credits_path = os.path.join(BASE_DIR, 'credits.csv')\n",
        "keywords_path = os.path.join(BASE_DIR, 'keywords.csv')"
      ],
      "execution_count": 0,
      "outputs": []
    },
    {
      "cell_type": "code",
      "metadata": {
        "id": "3WwPYfyD7Zcx",
        "colab_type": "code",
        "outputId": "05717419-e685-421e-9737-43f2942f537a",
        "colab": {
          "base_uri": "https://localhost:8080/",
          "height": 34
        }
      },
      "source": [
        "# Load the movies metadata\n",
        "\n",
        "metadata = pd.read_csv(metadata_path, low_memory = False)\n",
        "\n",
        "metadata.shape"
      ],
      "execution_count": 0,
      "outputs": [
        {
          "output_type": "execute_result",
          "data": {
            "text/plain": [
              "(45466, 24)"
            ]
          },
          "metadata": {
            "tags": []
          },
          "execution_count": 5
        }
      ]
    },
    {
      "cell_type": "code",
      "metadata": {
        "id": "Gayb7lTW7gV_",
        "colab_type": "code",
        "outputId": "b23940a0-01f9-4c85-8c1a-9bf3e789d1ca",
        "colab": {
          "base_uri": "https://localhost:8080/",
          "height": 666
        }
      },
      "source": [
        "metadata.head(5)"
      ],
      "execution_count": 0,
      "outputs": [
        {
          "output_type": "execute_result",
          "data": {
            "text/html": [
              "<div>\n",
              "<style scoped>\n",
              "    .dataframe tbody tr th:only-of-type {\n",
              "        vertical-align: middle;\n",
              "    }\n",
              "\n",
              "    .dataframe tbody tr th {\n",
              "        vertical-align: top;\n",
              "    }\n",
              "\n",
              "    .dataframe thead th {\n",
              "        text-align: right;\n",
              "    }\n",
              "</style>\n",
              "<table border=\"1\" class=\"dataframe\">\n",
              "  <thead>\n",
              "    <tr style=\"text-align: right;\">\n",
              "      <th></th>\n",
              "      <th>adult</th>\n",
              "      <th>belongs_to_collection</th>\n",
              "      <th>budget</th>\n",
              "      <th>genres</th>\n",
              "      <th>homepage</th>\n",
              "      <th>id</th>\n",
              "      <th>imdb_id</th>\n",
              "      <th>original_language</th>\n",
              "      <th>original_title</th>\n",
              "      <th>overview</th>\n",
              "      <th>popularity</th>\n",
              "      <th>poster_path</th>\n",
              "      <th>production_companies</th>\n",
              "      <th>production_countries</th>\n",
              "      <th>release_date</th>\n",
              "      <th>revenue</th>\n",
              "      <th>runtime</th>\n",
              "      <th>spoken_languages</th>\n",
              "      <th>status</th>\n",
              "      <th>tagline</th>\n",
              "      <th>title</th>\n",
              "      <th>video</th>\n",
              "      <th>vote_average</th>\n",
              "      <th>vote_count</th>\n",
              "    </tr>\n",
              "  </thead>\n",
              "  <tbody>\n",
              "    <tr>\n",
              "      <th>0</th>\n",
              "      <td>False</td>\n",
              "      <td>{'id': 10194, 'name': 'Toy Story Collection', ...</td>\n",
              "      <td>30000000</td>\n",
              "      <td>[{'id': 16, 'name': 'Animation'}, {'id': 35, '...</td>\n",
              "      <td>http://toystory.disney.com/toy-story</td>\n",
              "      <td>862</td>\n",
              "      <td>tt0114709</td>\n",
              "      <td>en</td>\n",
              "      <td>Toy Story</td>\n",
              "      <td>Led by Woody, Andy's toys live happily in his ...</td>\n",
              "      <td>21.946943</td>\n",
              "      <td>/rhIRbceoE9lR4veEXuwCC2wARtG.jpg</td>\n",
              "      <td>[{'name': 'Pixar Animation Studios', 'id': 3}]</td>\n",
              "      <td>[{'iso_3166_1': 'US', 'name': 'United States o...</td>\n",
              "      <td>1995-10-30</td>\n",
              "      <td>373554033.0</td>\n",
              "      <td>81.0</td>\n",
              "      <td>[{'iso_639_1': 'en', 'name': 'English'}]</td>\n",
              "      <td>Released</td>\n",
              "      <td>NaN</td>\n",
              "      <td>Toy Story</td>\n",
              "      <td>False</td>\n",
              "      <td>7.7</td>\n",
              "      <td>5415.0</td>\n",
              "    </tr>\n",
              "    <tr>\n",
              "      <th>1</th>\n",
              "      <td>False</td>\n",
              "      <td>NaN</td>\n",
              "      <td>65000000</td>\n",
              "      <td>[{'id': 12, 'name': 'Adventure'}, {'id': 14, '...</td>\n",
              "      <td>NaN</td>\n",
              "      <td>8844</td>\n",
              "      <td>tt0113497</td>\n",
              "      <td>en</td>\n",
              "      <td>Jumanji</td>\n",
              "      <td>When siblings Judy and Peter discover an encha...</td>\n",
              "      <td>17.015539</td>\n",
              "      <td>/vzmL6fP7aPKNKPRTFnZmiUfciyV.jpg</td>\n",
              "      <td>[{'name': 'TriStar Pictures', 'id': 559}, {'na...</td>\n",
              "      <td>[{'iso_3166_1': 'US', 'name': 'United States o...</td>\n",
              "      <td>1995-12-15</td>\n",
              "      <td>262797249.0</td>\n",
              "      <td>104.0</td>\n",
              "      <td>[{'iso_639_1': 'en', 'name': 'English'}, {'iso...</td>\n",
              "      <td>Released</td>\n",
              "      <td>Roll the dice and unleash the excitement!</td>\n",
              "      <td>Jumanji</td>\n",
              "      <td>False</td>\n",
              "      <td>6.9</td>\n",
              "      <td>2413.0</td>\n",
              "    </tr>\n",
              "    <tr>\n",
              "      <th>2</th>\n",
              "      <td>False</td>\n",
              "      <td>{'id': 119050, 'name': 'Grumpy Old Men Collect...</td>\n",
              "      <td>0</td>\n",
              "      <td>[{'id': 10749, 'name': 'Romance'}, {'id': 35, ...</td>\n",
              "      <td>NaN</td>\n",
              "      <td>15602</td>\n",
              "      <td>tt0113228</td>\n",
              "      <td>en</td>\n",
              "      <td>Grumpier Old Men</td>\n",
              "      <td>A family wedding reignites the ancient feud be...</td>\n",
              "      <td>11.7129</td>\n",
              "      <td>/6ksm1sjKMFLbO7UY2i6G1ju9SML.jpg</td>\n",
              "      <td>[{'name': 'Warner Bros.', 'id': 6194}, {'name'...</td>\n",
              "      <td>[{'iso_3166_1': 'US', 'name': 'United States o...</td>\n",
              "      <td>1995-12-22</td>\n",
              "      <td>0.0</td>\n",
              "      <td>101.0</td>\n",
              "      <td>[{'iso_639_1': 'en', 'name': 'English'}]</td>\n",
              "      <td>Released</td>\n",
              "      <td>Still Yelling. Still Fighting. Still Ready for...</td>\n",
              "      <td>Grumpier Old Men</td>\n",
              "      <td>False</td>\n",
              "      <td>6.5</td>\n",
              "      <td>92.0</td>\n",
              "    </tr>\n",
              "    <tr>\n",
              "      <th>3</th>\n",
              "      <td>False</td>\n",
              "      <td>NaN</td>\n",
              "      <td>16000000</td>\n",
              "      <td>[{'id': 35, 'name': 'Comedy'}, {'id': 18, 'nam...</td>\n",
              "      <td>NaN</td>\n",
              "      <td>31357</td>\n",
              "      <td>tt0114885</td>\n",
              "      <td>en</td>\n",
              "      <td>Waiting to Exhale</td>\n",
              "      <td>Cheated on, mistreated and stepped on, the wom...</td>\n",
              "      <td>3.859495</td>\n",
              "      <td>/16XOMpEaLWkrcPqSQqhTmeJuqQl.jpg</td>\n",
              "      <td>[{'name': 'Twentieth Century Fox Film Corporat...</td>\n",
              "      <td>[{'iso_3166_1': 'US', 'name': 'United States o...</td>\n",
              "      <td>1995-12-22</td>\n",
              "      <td>81452156.0</td>\n",
              "      <td>127.0</td>\n",
              "      <td>[{'iso_639_1': 'en', 'name': 'English'}]</td>\n",
              "      <td>Released</td>\n",
              "      <td>Friends are the people who let you be yourself...</td>\n",
              "      <td>Waiting to Exhale</td>\n",
              "      <td>False</td>\n",
              "      <td>6.1</td>\n",
              "      <td>34.0</td>\n",
              "    </tr>\n",
              "    <tr>\n",
              "      <th>4</th>\n",
              "      <td>False</td>\n",
              "      <td>{'id': 96871, 'name': 'Father of the Bride Col...</td>\n",
              "      <td>0</td>\n",
              "      <td>[{'id': 35, 'name': 'Comedy'}]</td>\n",
              "      <td>NaN</td>\n",
              "      <td>11862</td>\n",
              "      <td>tt0113041</td>\n",
              "      <td>en</td>\n",
              "      <td>Father of the Bride Part II</td>\n",
              "      <td>Just when George Banks has recovered from his ...</td>\n",
              "      <td>8.387519</td>\n",
              "      <td>/e64sOI48hQXyru7naBFyssKFxVd.jpg</td>\n",
              "      <td>[{'name': 'Sandollar Productions', 'id': 5842}...</td>\n",
              "      <td>[{'iso_3166_1': 'US', 'name': 'United States o...</td>\n",
              "      <td>1995-02-10</td>\n",
              "      <td>76578911.0</td>\n",
              "      <td>106.0</td>\n",
              "      <td>[{'iso_639_1': 'en', 'name': 'English'}]</td>\n",
              "      <td>Released</td>\n",
              "      <td>Just When His World Is Back To Normal... He's ...</td>\n",
              "      <td>Father of the Bride Part II</td>\n",
              "      <td>False</td>\n",
              "      <td>5.7</td>\n",
              "      <td>173.0</td>\n",
              "    </tr>\n",
              "  </tbody>\n",
              "</table>\n",
              "</div>"
            ],
            "text/plain": [
              "   adult  ... vote_count\n",
              "0  False  ...     5415.0\n",
              "1  False  ...     2413.0\n",
              "2  False  ...       92.0\n",
              "3  False  ...       34.0\n",
              "4  False  ...      173.0\n",
              "\n",
              "[5 rows x 24 columns]"
            ]
          },
          "metadata": {
            "tags": []
          },
          "execution_count": 6
        }
      ]
    },
    {
      "cell_type": "code",
      "metadata": {
        "id": "5AjJirpf-Nrn",
        "colab_type": "code",
        "outputId": "5937fd99-d0a7-4f0a-f76b-d41ec083f39e",
        "colab": {
          "base_uri": "https://localhost:8080/",
          "height": 119
        }
      },
      "source": [
        "# Let's look at movie overviews\n",
        "\n",
        "metadata['overview'].head()"
      ],
      "execution_count": 0,
      "outputs": [
        {
          "output_type": "execute_result",
          "data": {
            "text/plain": [
              "0    Led by Woody, Andy's toys live happily in his ...\n",
              "1    When siblings Judy and Peter discover an encha...\n",
              "2    A family wedding reignites the ancient feud be...\n",
              "3    Cheated on, mistreated and stepped on, the wom...\n",
              "4    Just when George Banks has recovered from his ...\n",
              "Name: overview, dtype: object"
            ]
          },
          "metadata": {
            "tags": []
          },
          "execution_count": 7
        }
      ]
    },
    {
      "cell_type": "markdown",
      "metadata": {
        "id": "haEdZVpoCJMh",
        "colab_type": "text"
      },
      "source": [
        "Since the entire data is too large, we'll only be using the top 10% popular movies (movies with at least 160 votes)"
      ]
    },
    {
      "cell_type": "code",
      "metadata": {
        "id": "idPXJZ5SCQk3",
        "colab_type": "code",
        "outputId": "9bc7c2ae-ea50-4434-e8c0-4bfc323366f5",
        "colab": {
          "base_uri": "https://localhost:8080/",
          "height": 34
        }
      },
      "source": [
        "m = metadata['vote_count'].quantile(0.90)\n",
        "\n",
        "q_metadata = metadata.copy().loc[metadata['vote_count'] >= m]\n",
        "q_metadata = q_metadata.reset_index()\n",
        "\n",
        "q_metadata.shape"
      ],
      "execution_count": 0,
      "outputs": [
        {
          "output_type": "execute_result",
          "data": {
            "text/plain": [
              "(4555, 25)"
            ]
          },
          "metadata": {
            "tags": []
          },
          "execution_count": 8
        }
      ]
    },
    {
      "cell_type": "code",
      "metadata": {
        "id": "5sY7hWKAM7J9",
        "colab_type": "code",
        "outputId": "320bfe60-b61c-463b-b810-e96939997b0e",
        "colab": {
          "base_uri": "https://localhost:8080/",
          "height": 598
        }
      },
      "source": [
        "q_metadata.head()"
      ],
      "execution_count": 0,
      "outputs": [
        {
          "output_type": "execute_result",
          "data": {
            "text/html": [
              "<div>\n",
              "<style scoped>\n",
              "    .dataframe tbody tr th:only-of-type {\n",
              "        vertical-align: middle;\n",
              "    }\n",
              "\n",
              "    .dataframe tbody tr th {\n",
              "        vertical-align: top;\n",
              "    }\n",
              "\n",
              "    .dataframe thead th {\n",
              "        text-align: right;\n",
              "    }\n",
              "</style>\n",
              "<table border=\"1\" class=\"dataframe\">\n",
              "  <thead>\n",
              "    <tr style=\"text-align: right;\">\n",
              "      <th></th>\n",
              "      <th>index</th>\n",
              "      <th>adult</th>\n",
              "      <th>belongs_to_collection</th>\n",
              "      <th>budget</th>\n",
              "      <th>genres</th>\n",
              "      <th>homepage</th>\n",
              "      <th>id</th>\n",
              "      <th>imdb_id</th>\n",
              "      <th>original_language</th>\n",
              "      <th>original_title</th>\n",
              "      <th>overview</th>\n",
              "      <th>popularity</th>\n",
              "      <th>poster_path</th>\n",
              "      <th>production_companies</th>\n",
              "      <th>production_countries</th>\n",
              "      <th>release_date</th>\n",
              "      <th>revenue</th>\n",
              "      <th>runtime</th>\n",
              "      <th>spoken_languages</th>\n",
              "      <th>status</th>\n",
              "      <th>tagline</th>\n",
              "      <th>title</th>\n",
              "      <th>video</th>\n",
              "      <th>vote_average</th>\n",
              "      <th>vote_count</th>\n",
              "    </tr>\n",
              "  </thead>\n",
              "  <tbody>\n",
              "    <tr>\n",
              "      <th>0</th>\n",
              "      <td>0</td>\n",
              "      <td>False</td>\n",
              "      <td>{'id': 10194, 'name': 'Toy Story Collection', ...</td>\n",
              "      <td>30000000</td>\n",
              "      <td>[{'id': 16, 'name': 'Animation'}, {'id': 35, '...</td>\n",
              "      <td>http://toystory.disney.com/toy-story</td>\n",
              "      <td>862</td>\n",
              "      <td>tt0114709</td>\n",
              "      <td>en</td>\n",
              "      <td>Toy Story</td>\n",
              "      <td>Led by Woody, Andy's toys live happily in his ...</td>\n",
              "      <td>21.946943</td>\n",
              "      <td>/rhIRbceoE9lR4veEXuwCC2wARtG.jpg</td>\n",
              "      <td>[{'name': 'Pixar Animation Studios', 'id': 3}]</td>\n",
              "      <td>[{'iso_3166_1': 'US', 'name': 'United States o...</td>\n",
              "      <td>1995-10-30</td>\n",
              "      <td>373554033.0</td>\n",
              "      <td>81.0</td>\n",
              "      <td>[{'iso_639_1': 'en', 'name': 'English'}]</td>\n",
              "      <td>Released</td>\n",
              "      <td>NaN</td>\n",
              "      <td>Toy Story</td>\n",
              "      <td>False</td>\n",
              "      <td>7.7</td>\n",
              "      <td>5415.0</td>\n",
              "    </tr>\n",
              "    <tr>\n",
              "      <th>1</th>\n",
              "      <td>1</td>\n",
              "      <td>False</td>\n",
              "      <td>NaN</td>\n",
              "      <td>65000000</td>\n",
              "      <td>[{'id': 12, 'name': 'Adventure'}, {'id': 14, '...</td>\n",
              "      <td>NaN</td>\n",
              "      <td>8844</td>\n",
              "      <td>tt0113497</td>\n",
              "      <td>en</td>\n",
              "      <td>Jumanji</td>\n",
              "      <td>When siblings Judy and Peter discover an encha...</td>\n",
              "      <td>17.015539</td>\n",
              "      <td>/vzmL6fP7aPKNKPRTFnZmiUfciyV.jpg</td>\n",
              "      <td>[{'name': 'TriStar Pictures', 'id': 559}, {'na...</td>\n",
              "      <td>[{'iso_3166_1': 'US', 'name': 'United States o...</td>\n",
              "      <td>1995-12-15</td>\n",
              "      <td>262797249.0</td>\n",
              "      <td>104.0</td>\n",
              "      <td>[{'iso_639_1': 'en', 'name': 'English'}, {'iso...</td>\n",
              "      <td>Released</td>\n",
              "      <td>Roll the dice and unleash the excitement!</td>\n",
              "      <td>Jumanji</td>\n",
              "      <td>False</td>\n",
              "      <td>6.9</td>\n",
              "      <td>2413.0</td>\n",
              "    </tr>\n",
              "    <tr>\n",
              "      <th>2</th>\n",
              "      <td>4</td>\n",
              "      <td>False</td>\n",
              "      <td>{'id': 96871, 'name': 'Father of the Bride Col...</td>\n",
              "      <td>0</td>\n",
              "      <td>[{'id': 35, 'name': 'Comedy'}]</td>\n",
              "      <td>NaN</td>\n",
              "      <td>11862</td>\n",
              "      <td>tt0113041</td>\n",
              "      <td>en</td>\n",
              "      <td>Father of the Bride Part II</td>\n",
              "      <td>Just when George Banks has recovered from his ...</td>\n",
              "      <td>8.387519</td>\n",
              "      <td>/e64sOI48hQXyru7naBFyssKFxVd.jpg</td>\n",
              "      <td>[{'name': 'Sandollar Productions', 'id': 5842}...</td>\n",
              "      <td>[{'iso_3166_1': 'US', 'name': 'United States o...</td>\n",
              "      <td>1995-02-10</td>\n",
              "      <td>76578911.0</td>\n",
              "      <td>106.0</td>\n",
              "      <td>[{'iso_639_1': 'en', 'name': 'English'}]</td>\n",
              "      <td>Released</td>\n",
              "      <td>Just When His World Is Back To Normal... He's ...</td>\n",
              "      <td>Father of the Bride Part II</td>\n",
              "      <td>False</td>\n",
              "      <td>5.7</td>\n",
              "      <td>173.0</td>\n",
              "    </tr>\n",
              "    <tr>\n",
              "      <th>3</th>\n",
              "      <td>5</td>\n",
              "      <td>False</td>\n",
              "      <td>NaN</td>\n",
              "      <td>60000000</td>\n",
              "      <td>[{'id': 28, 'name': 'Action'}, {'id': 80, 'nam...</td>\n",
              "      <td>NaN</td>\n",
              "      <td>949</td>\n",
              "      <td>tt0113277</td>\n",
              "      <td>en</td>\n",
              "      <td>Heat</td>\n",
              "      <td>Obsessive master thief, Neil McCauley leads a ...</td>\n",
              "      <td>17.924927</td>\n",
              "      <td>/zMyfPUelumio3tiDKPffaUpsQTD.jpg</td>\n",
              "      <td>[{'name': 'Regency Enterprises', 'id': 508}, {...</td>\n",
              "      <td>[{'iso_3166_1': 'US', 'name': 'United States o...</td>\n",
              "      <td>1995-12-15</td>\n",
              "      <td>187436818.0</td>\n",
              "      <td>170.0</td>\n",
              "      <td>[{'iso_639_1': 'en', 'name': 'English'}, {'iso...</td>\n",
              "      <td>Released</td>\n",
              "      <td>A Los Angeles Crime Saga</td>\n",
              "      <td>Heat</td>\n",
              "      <td>False</td>\n",
              "      <td>7.7</td>\n",
              "      <td>1886.0</td>\n",
              "    </tr>\n",
              "    <tr>\n",
              "      <th>4</th>\n",
              "      <td>8</td>\n",
              "      <td>False</td>\n",
              "      <td>NaN</td>\n",
              "      <td>35000000</td>\n",
              "      <td>[{'id': 28, 'name': 'Action'}, {'id': 12, 'nam...</td>\n",
              "      <td>NaN</td>\n",
              "      <td>9091</td>\n",
              "      <td>tt0114576</td>\n",
              "      <td>en</td>\n",
              "      <td>Sudden Death</td>\n",
              "      <td>International action superstar Jean Claude Van...</td>\n",
              "      <td>5.23158</td>\n",
              "      <td>/eoWvKD60lT95Ss1MYNgVExpo5iU.jpg</td>\n",
              "      <td>[{'name': 'Universal Pictures', 'id': 33}, {'n...</td>\n",
              "      <td>[{'iso_3166_1': 'US', 'name': 'United States o...</td>\n",
              "      <td>1995-12-22</td>\n",
              "      <td>64350171.0</td>\n",
              "      <td>106.0</td>\n",
              "      <td>[{'iso_639_1': 'en', 'name': 'English'}]</td>\n",
              "      <td>Released</td>\n",
              "      <td>Terror goes into overtime.</td>\n",
              "      <td>Sudden Death</td>\n",
              "      <td>False</td>\n",
              "      <td>5.5</td>\n",
              "      <td>174.0</td>\n",
              "    </tr>\n",
              "  </tbody>\n",
              "</table>\n",
              "</div>"
            ],
            "text/plain": [
              "   index  adult  ... vote_average vote_count\n",
              "0      0  False  ...          7.7     5415.0\n",
              "1      1  False  ...          6.9     2413.0\n",
              "2      4  False  ...          5.7      173.0\n",
              "3      5  False  ...          7.7     1886.0\n",
              "4      8  False  ...          5.5      174.0\n",
              "\n",
              "[5 rows x 25 columns]"
            ]
          },
          "metadata": {
            "tags": []
          },
          "execution_count": 9
        }
      ]
    },
    {
      "cell_type": "markdown",
      "metadata": {
        "id": "3fx9Nc1TC18w",
        "colab_type": "text"
      },
      "source": [
        "That's better!"
      ]
    },
    {
      "cell_type": "code",
      "metadata": {
        "id": "pK1HzVXuDFsD",
        "colab_type": "code",
        "colab": {}
      },
      "source": [
        "q_metadata['overview'] = q_metadata['overview'].fillna('')"
      ],
      "execution_count": 0,
      "outputs": []
    },
    {
      "cell_type": "code",
      "metadata": {
        "id": "CVQYJyQE_6u3",
        "colab_type": "code",
        "outputId": "88e757de-453f-48e7-a1b7-76166749c316",
        "colab": {
          "base_uri": "https://localhost:8080/",
          "height": 34
        }
      },
      "source": [
        "# Now, processing this text using TF-IDF Vectorizer\n",
        "\n",
        "from sklearn.feature_extraction.text import TfidfVectorizer\n",
        "\n",
        "tfidf = TfidfVectorizer(stop_words = 'english')  # initialising the TF-IDF Vector object\n",
        "\n",
        "tfidf_matrix = tfidf.fit_transform(q_metadata['overview'])  # Constructing the TF-IDF Matrix (no. of movies x every word in vocabulary)\n",
        "tfidf_matrix.shape"
      ],
      "execution_count": 0,
      "outputs": [
        {
          "output_type": "execute_result",
          "data": {
            "text/plain": [
              "(4555, 19694)"
            ]
          },
          "metadata": {
            "tags": []
          },
          "execution_count": 11
        }
      ]
    },
    {
      "cell_type": "code",
      "metadata": {
        "id": "vrFERB-BA08z",
        "colab_type": "code",
        "outputId": "d50c3de5-6fa3-4c5a-d45e-2c5ca7dc1111",
        "colab": {
          "base_uri": "https://localhost:8080/",
          "height": 34
        }
      },
      "source": [
        "# Computing the cosine similarity\n",
        "\n",
        "from sklearn.metrics.pairwise import linear_kernel\n",
        "\n",
        "cosine_sim = linear_kernel(tfidf_matrix, tfidf_matrix)  # Constructing the Cosine Similarity Matrix (no. of movies x no. of movies)\n",
        "cosine_sim.shape"
      ],
      "execution_count": 0,
      "outputs": [
        {
          "output_type": "execute_result",
          "data": {
            "text/plain": [
              "(4555, 4555)"
            ]
          },
          "metadata": {
            "tags": []
          },
          "execution_count": 12
        }
      ]
    },
    {
      "cell_type": "code",
      "metadata": {
        "id": "wjBvh4XGBvki",
        "colab_type": "code",
        "colab": {}
      },
      "source": [
        "# Construct a reverse map of indices and titles\n",
        "\n",
        "indices = pd.Series(q_metadata.index, index = q_metadata['title']).drop_duplicates()"
      ],
      "execution_count": 0,
      "outputs": []
    },
    {
      "cell_type": "code",
      "metadata": {
        "id": "vHBPrsUzDjBr",
        "colab_type": "code",
        "colab": {}
      },
      "source": [
        "# Function that inputs movie titles and outputs top 10 movies similar to it\n",
        "\n",
        "def get_recommendations(title, cosine_sim = cosine_sim):\n",
        "  idx = indices[title]\n",
        "  \n",
        "  sim_scores = list(enumerate(cosine_sim[idx]))  # Get the similarity scores of all movies wrt input movie\n",
        "  sim_scores = sorted(sim_scores, key = lambda x : x[1], reverse = True)\n",
        "  sim_scores = sim_scores[1:11]\n",
        "  \n",
        "  movie_indices = [i[0] for i in sim_scores]\n",
        "  \n",
        "  return q_metadata['title'].iloc[movie_indices]"
      ],
      "execution_count": 0,
      "outputs": []
    },
    {
      "cell_type": "code",
      "metadata": {
        "id": "8q4mov0OMH4S",
        "colab_type": "code",
        "outputId": "0f9fbdbc-f9c1-48c4-8ca5-0f55e9b48afc",
        "colab": {
          "base_uri": "https://localhost:8080/",
          "height": 204
        }
      },
      "source": [
        "get_recommendations('The Dark Knight Rises')"
      ],
      "execution_count": 0,
      "outputs": [
        {
          "output_type": "execute_result",
          "data": {
            "text/plain": [
              "47                               Batman Forever\n",
              "2398                            The Dark Knight\n",
              "444                              Batman Returns\n",
              "185                                      Batman\n",
              "2824                 Batman: Under the Red Hood\n",
              "3084                           Batman: Year One\n",
              "3318    Batman: The Dark Knight Returns, Part 1\n",
              "4249                          Batman: Bad Blood\n",
              "3355    Batman: The Dark Knight Returns, Part 2\n",
              "981                Batman: Mask of the Phantasm\n",
              "Name: title, dtype: object"
            ]
          },
          "metadata": {
            "tags": []
          },
          "execution_count": 15
        }
      ]
    },
    {
      "cell_type": "code",
      "metadata": {
        "id": "a0WD67D4CBMC",
        "colab_type": "code",
        "outputId": "02391c2b-49a0-4162-bd3d-4da3ced4c0d0",
        "colab": {
          "base_uri": "https://localhost:8080/",
          "height": 204
        }
      },
      "source": [
        "get_recommendations('Titanic')"
      ],
      "execution_count": 0,
      "outputs": [
        {
          "output_type": "execute_result",
          "data": {
            "text/plain": [
              "841                                  The Legend of 1900\n",
              "1451                                         Ghost Ship\n",
              "493                                       Event Horizon\n",
              "3394                                          Populaire\n",
              "1610    Master and Commander: The Far Side of the World\n",
              "2733                                           Triangle\n",
              "1957                                           Serenity\n",
              "1417                               K-19: The Widowmaker\n",
              "2991        Pirates of the Caribbean: On Stranger Tides\n",
              "2090                                           Poseidon\n",
              "Name: title, dtype: object"
            ]
          },
          "metadata": {
            "tags": []
          },
          "execution_count": 16
        }
      ]
    },
    {
      "cell_type": "markdown",
      "metadata": {
        "id": "MdCt0tMgnXzI",
        "colab_type": "text"
      },
      "source": [
        "While our system has done a decent job of finding movies with similar plot descriptions, the quality of recommendations is not that great. \"The Dark Knight Rises\" returns all Batman movies while it more likely that the people who liked that movie are more inclined to enjoy other Christopher Nolan movies. \n",
        "\n",
        "So fix this, we incorporate information about the director, actors and genre of the movie into our model"
      ]
    },
    {
      "cell_type": "markdown",
      "metadata": {
        "id": "LEkCozsUnn20",
        "colab_type": "text"
      },
      "source": [
        "## Credits, Genres and Keywords based Recommender\n",
        "\n",
        "\n",
        "\n",
        "\n",
        "\n"
      ]
    },
    {
      "cell_type": "markdown",
      "metadata": {
        "id": "V36Yz47On1YI",
        "colab_type": "text"
      },
      "source": [
        "### Workflow\n",
        "- Get the credits and keywords for each movie from separate csv files and merge them into the current dataframe\n",
        "- Convert them from 'stringified' lists to a from that is more suitable to us\n",
        "- Clean the data, convert them into lower case, and remove spaces\n",
        "- Join these features to create a 'metadata soup'\n",
        "- Convert this soup into vectorised format using Count Vectorizer\n",
        "- Calculate cosine similarity from the Count matrix\n",
        "- Use the existing `get_recommendations()` function to get movie recommendations using this cosine similarity\n",
        "\n"
      ]
    },
    {
      "cell_type": "code",
      "metadata": {
        "id": "WsB7I-cwMOGs",
        "colab_type": "code",
        "colab": {}
      },
      "source": [
        "credits = pd.read_csv(credits_path)\n",
        "keywords = pd.read_csv(keywords_path)"
      ],
      "execution_count": 0,
      "outputs": []
    },
    {
      "cell_type": "code",
      "metadata": {
        "id": "aN0Fei92stdw",
        "colab_type": "code",
        "outputId": "f07e36fe-99e6-4cd2-f7a7-91227ed5e9be",
        "colab": {
          "base_uri": "https://localhost:8080/",
          "height": 34
        }
      },
      "source": [
        "# Convert the ids to int and merge the dataframes\n",
        "\n",
        "keywords['id'] = keywords['id'].astype('int')\n",
        "credits['id'] = credits['id'].astype('int')\n",
        "q_metadata['id'] = q_metadata['id'].astype('int')\n",
        "\n",
        "q_metadata = q_metadata.merge(credits, on='id')\n",
        "q_metadata = q_metadata.merge(keywords, on='id')\n",
        "\n",
        "q_metadata.shape"
      ],
      "execution_count": 0,
      "outputs": [
        {
          "output_type": "execute_result",
          "data": {
            "text/plain": [
              "(4606, 28)"
            ]
          },
          "metadata": {
            "tags": []
          },
          "execution_count": 18
        }
      ]
    },
    {
      "cell_type": "code",
      "metadata": {
        "id": "iQcZbNzxtG4p",
        "colab_type": "code",
        "outputId": "7aa850e6-ab07-4602-e3c0-8d80f5e41168",
        "colab": {
          "base_uri": "https://localhost:8080/",
          "height": 632
        }
      },
      "source": [
        "q_metadata.head()"
      ],
      "execution_count": 0,
      "outputs": [
        {
          "output_type": "execute_result",
          "data": {
            "text/html": [
              "<div>\n",
              "<style scoped>\n",
              "    .dataframe tbody tr th:only-of-type {\n",
              "        vertical-align: middle;\n",
              "    }\n",
              "\n",
              "    .dataframe tbody tr th {\n",
              "        vertical-align: top;\n",
              "    }\n",
              "\n",
              "    .dataframe thead th {\n",
              "        text-align: right;\n",
              "    }\n",
              "</style>\n",
              "<table border=\"1\" class=\"dataframe\">\n",
              "  <thead>\n",
              "    <tr style=\"text-align: right;\">\n",
              "      <th></th>\n",
              "      <th>index</th>\n",
              "      <th>adult</th>\n",
              "      <th>belongs_to_collection</th>\n",
              "      <th>budget</th>\n",
              "      <th>genres</th>\n",
              "      <th>homepage</th>\n",
              "      <th>id</th>\n",
              "      <th>imdb_id</th>\n",
              "      <th>original_language</th>\n",
              "      <th>original_title</th>\n",
              "      <th>overview</th>\n",
              "      <th>popularity</th>\n",
              "      <th>poster_path</th>\n",
              "      <th>production_companies</th>\n",
              "      <th>production_countries</th>\n",
              "      <th>release_date</th>\n",
              "      <th>revenue</th>\n",
              "      <th>runtime</th>\n",
              "      <th>spoken_languages</th>\n",
              "      <th>status</th>\n",
              "      <th>tagline</th>\n",
              "      <th>title</th>\n",
              "      <th>video</th>\n",
              "      <th>vote_average</th>\n",
              "      <th>vote_count</th>\n",
              "      <th>cast</th>\n",
              "      <th>crew</th>\n",
              "      <th>keywords</th>\n",
              "    </tr>\n",
              "  </thead>\n",
              "  <tbody>\n",
              "    <tr>\n",
              "      <th>0</th>\n",
              "      <td>0</td>\n",
              "      <td>False</td>\n",
              "      <td>{'id': 10194, 'name': 'Toy Story Collection', ...</td>\n",
              "      <td>30000000</td>\n",
              "      <td>[{'id': 16, 'name': 'Animation'}, {'id': 35, '...</td>\n",
              "      <td>http://toystory.disney.com/toy-story</td>\n",
              "      <td>862</td>\n",
              "      <td>tt0114709</td>\n",
              "      <td>en</td>\n",
              "      <td>Toy Story</td>\n",
              "      <td>Led by Woody, Andy's toys live happily in his ...</td>\n",
              "      <td>21.946943</td>\n",
              "      <td>/rhIRbceoE9lR4veEXuwCC2wARtG.jpg</td>\n",
              "      <td>[{'name': 'Pixar Animation Studios', 'id': 3}]</td>\n",
              "      <td>[{'iso_3166_1': 'US', 'name': 'United States o...</td>\n",
              "      <td>1995-10-30</td>\n",
              "      <td>373554033.0</td>\n",
              "      <td>81.0</td>\n",
              "      <td>[{'iso_639_1': 'en', 'name': 'English'}]</td>\n",
              "      <td>Released</td>\n",
              "      <td>NaN</td>\n",
              "      <td>Toy Story</td>\n",
              "      <td>False</td>\n",
              "      <td>7.7</td>\n",
              "      <td>5415.0</td>\n",
              "      <td>[{'cast_id': 14, 'character': 'Woody (voice)',...</td>\n",
              "      <td>[{'credit_id': '52fe4284c3a36847f8024f49', 'de...</td>\n",
              "      <td>[{'id': 931, 'name': 'jealousy'}, {'id': 4290,...</td>\n",
              "    </tr>\n",
              "    <tr>\n",
              "      <th>1</th>\n",
              "      <td>1</td>\n",
              "      <td>False</td>\n",
              "      <td>NaN</td>\n",
              "      <td>65000000</td>\n",
              "      <td>[{'id': 12, 'name': 'Adventure'}, {'id': 14, '...</td>\n",
              "      <td>NaN</td>\n",
              "      <td>8844</td>\n",
              "      <td>tt0113497</td>\n",
              "      <td>en</td>\n",
              "      <td>Jumanji</td>\n",
              "      <td>When siblings Judy and Peter discover an encha...</td>\n",
              "      <td>17.015539</td>\n",
              "      <td>/vzmL6fP7aPKNKPRTFnZmiUfciyV.jpg</td>\n",
              "      <td>[{'name': 'TriStar Pictures', 'id': 559}, {'na...</td>\n",
              "      <td>[{'iso_3166_1': 'US', 'name': 'United States o...</td>\n",
              "      <td>1995-12-15</td>\n",
              "      <td>262797249.0</td>\n",
              "      <td>104.0</td>\n",
              "      <td>[{'iso_639_1': 'en', 'name': 'English'}, {'iso...</td>\n",
              "      <td>Released</td>\n",
              "      <td>Roll the dice and unleash the excitement!</td>\n",
              "      <td>Jumanji</td>\n",
              "      <td>False</td>\n",
              "      <td>6.9</td>\n",
              "      <td>2413.0</td>\n",
              "      <td>[{'cast_id': 1, 'character': 'Alan Parrish', '...</td>\n",
              "      <td>[{'credit_id': '52fe44bfc3a36847f80a7cd1', 'de...</td>\n",
              "      <td>[{'id': 10090, 'name': 'board game'}, {'id': 1...</td>\n",
              "    </tr>\n",
              "    <tr>\n",
              "      <th>2</th>\n",
              "      <td>4</td>\n",
              "      <td>False</td>\n",
              "      <td>{'id': 96871, 'name': 'Father of the Bride Col...</td>\n",
              "      <td>0</td>\n",
              "      <td>[{'id': 35, 'name': 'Comedy'}]</td>\n",
              "      <td>NaN</td>\n",
              "      <td>11862</td>\n",
              "      <td>tt0113041</td>\n",
              "      <td>en</td>\n",
              "      <td>Father of the Bride Part II</td>\n",
              "      <td>Just when George Banks has recovered from his ...</td>\n",
              "      <td>8.387519</td>\n",
              "      <td>/e64sOI48hQXyru7naBFyssKFxVd.jpg</td>\n",
              "      <td>[{'name': 'Sandollar Productions', 'id': 5842}...</td>\n",
              "      <td>[{'iso_3166_1': 'US', 'name': 'United States o...</td>\n",
              "      <td>1995-02-10</td>\n",
              "      <td>76578911.0</td>\n",
              "      <td>106.0</td>\n",
              "      <td>[{'iso_639_1': 'en', 'name': 'English'}]</td>\n",
              "      <td>Released</td>\n",
              "      <td>Just When His World Is Back To Normal... He's ...</td>\n",
              "      <td>Father of the Bride Part II</td>\n",
              "      <td>False</td>\n",
              "      <td>5.7</td>\n",
              "      <td>173.0</td>\n",
              "      <td>[{'cast_id': 1, 'character': 'George Banks', '...</td>\n",
              "      <td>[{'credit_id': '52fe44959251416c75039ed7', 'de...</td>\n",
              "      <td>[{'id': 1009, 'name': 'baby'}, {'id': 1599, 'n...</td>\n",
              "    </tr>\n",
              "    <tr>\n",
              "      <th>3</th>\n",
              "      <td>5</td>\n",
              "      <td>False</td>\n",
              "      <td>NaN</td>\n",
              "      <td>60000000</td>\n",
              "      <td>[{'id': 28, 'name': 'Action'}, {'id': 80, 'nam...</td>\n",
              "      <td>NaN</td>\n",
              "      <td>949</td>\n",
              "      <td>tt0113277</td>\n",
              "      <td>en</td>\n",
              "      <td>Heat</td>\n",
              "      <td>Obsessive master thief, Neil McCauley leads a ...</td>\n",
              "      <td>17.924927</td>\n",
              "      <td>/zMyfPUelumio3tiDKPffaUpsQTD.jpg</td>\n",
              "      <td>[{'name': 'Regency Enterprises', 'id': 508}, {...</td>\n",
              "      <td>[{'iso_3166_1': 'US', 'name': 'United States o...</td>\n",
              "      <td>1995-12-15</td>\n",
              "      <td>187436818.0</td>\n",
              "      <td>170.0</td>\n",
              "      <td>[{'iso_639_1': 'en', 'name': 'English'}, {'iso...</td>\n",
              "      <td>Released</td>\n",
              "      <td>A Los Angeles Crime Saga</td>\n",
              "      <td>Heat</td>\n",
              "      <td>False</td>\n",
              "      <td>7.7</td>\n",
              "      <td>1886.0</td>\n",
              "      <td>[{'cast_id': 25, 'character': 'Lt. Vincent Han...</td>\n",
              "      <td>[{'credit_id': '52fe4292c3a36847f802916d', 'de...</td>\n",
              "      <td>[{'id': 642, 'name': 'robbery'}, {'id': 703, '...</td>\n",
              "    </tr>\n",
              "    <tr>\n",
              "      <th>4</th>\n",
              "      <td>8</td>\n",
              "      <td>False</td>\n",
              "      <td>NaN</td>\n",
              "      <td>35000000</td>\n",
              "      <td>[{'id': 28, 'name': 'Action'}, {'id': 12, 'nam...</td>\n",
              "      <td>NaN</td>\n",
              "      <td>9091</td>\n",
              "      <td>tt0114576</td>\n",
              "      <td>en</td>\n",
              "      <td>Sudden Death</td>\n",
              "      <td>International action superstar Jean Claude Van...</td>\n",
              "      <td>5.23158</td>\n",
              "      <td>/eoWvKD60lT95Ss1MYNgVExpo5iU.jpg</td>\n",
              "      <td>[{'name': 'Universal Pictures', 'id': 33}, {'n...</td>\n",
              "      <td>[{'iso_3166_1': 'US', 'name': 'United States o...</td>\n",
              "      <td>1995-12-22</td>\n",
              "      <td>64350171.0</td>\n",
              "      <td>106.0</td>\n",
              "      <td>[{'iso_639_1': 'en', 'name': 'English'}]</td>\n",
              "      <td>Released</td>\n",
              "      <td>Terror goes into overtime.</td>\n",
              "      <td>Sudden Death</td>\n",
              "      <td>False</td>\n",
              "      <td>5.5</td>\n",
              "      <td>174.0</td>\n",
              "      <td>[{'cast_id': 1, 'character': 'Darren Francis T...</td>\n",
              "      <td>[{'credit_id': '52fe44dbc3a36847f80ae0f1', 'de...</td>\n",
              "      <td>[{'id': 949, 'name': 'terrorist'}, {'id': 1562...</td>\n",
              "    </tr>\n",
              "  </tbody>\n",
              "</table>\n",
              "</div>"
            ],
            "text/plain": [
              "   index  ...                                           keywords\n",
              "0      0  ...  [{'id': 931, 'name': 'jealousy'}, {'id': 4290,...\n",
              "1      1  ...  [{'id': 10090, 'name': 'board game'}, {'id': 1...\n",
              "2      4  ...  [{'id': 1009, 'name': 'baby'}, {'id': 1599, 'n...\n",
              "3      5  ...  [{'id': 642, 'name': 'robbery'}, {'id': 703, '...\n",
              "4      8  ...  [{'id': 949, 'name': 'terrorist'}, {'id': 1562...\n",
              "\n",
              "[5 rows x 28 columns]"
            ]
          },
          "metadata": {
            "tags": []
          },
          "execution_count": 19
        }
      ]
    },
    {
      "cell_type": "code",
      "metadata": {
        "id": "7l-PiuOJtaAJ",
        "colab_type": "code",
        "colab": {}
      },
      "source": [
        "features = ['cast', 'crew', 'keywords', 'genres']\n",
        "features_d = ['cast', 'keywords', 'genres']"
      ],
      "execution_count": 0,
      "outputs": []
    },
    {
      "cell_type": "code",
      "metadata": {
        "id": "nmdzlzs0tKB9",
        "colab_type": "code",
        "outputId": "c44768b6-1ca2-42ad-eb1c-c9021c966205",
        "colab": {
          "base_uri": "https://localhost:8080/",
          "height": 632
        }
      },
      "source": [
        "# Parse the stringified features into usable python objects\n",
        "\n",
        "from ast import literal_eval\n",
        "\n",
        "for feature in features:\n",
        "  q_metadata[feature] = q_metadata[feature].apply(literal_eval)\n",
        "\n",
        "q_metadata.head()"
      ],
      "execution_count": 0,
      "outputs": [
        {
          "output_type": "execute_result",
          "data": {
            "text/html": [
              "<div>\n",
              "<style scoped>\n",
              "    .dataframe tbody tr th:only-of-type {\n",
              "        vertical-align: middle;\n",
              "    }\n",
              "\n",
              "    .dataframe tbody tr th {\n",
              "        vertical-align: top;\n",
              "    }\n",
              "\n",
              "    .dataframe thead th {\n",
              "        text-align: right;\n",
              "    }\n",
              "</style>\n",
              "<table border=\"1\" class=\"dataframe\">\n",
              "  <thead>\n",
              "    <tr style=\"text-align: right;\">\n",
              "      <th></th>\n",
              "      <th>index</th>\n",
              "      <th>adult</th>\n",
              "      <th>belongs_to_collection</th>\n",
              "      <th>budget</th>\n",
              "      <th>genres</th>\n",
              "      <th>homepage</th>\n",
              "      <th>id</th>\n",
              "      <th>imdb_id</th>\n",
              "      <th>original_language</th>\n",
              "      <th>original_title</th>\n",
              "      <th>overview</th>\n",
              "      <th>popularity</th>\n",
              "      <th>poster_path</th>\n",
              "      <th>production_companies</th>\n",
              "      <th>production_countries</th>\n",
              "      <th>release_date</th>\n",
              "      <th>revenue</th>\n",
              "      <th>runtime</th>\n",
              "      <th>spoken_languages</th>\n",
              "      <th>status</th>\n",
              "      <th>tagline</th>\n",
              "      <th>title</th>\n",
              "      <th>video</th>\n",
              "      <th>vote_average</th>\n",
              "      <th>vote_count</th>\n",
              "      <th>cast</th>\n",
              "      <th>crew</th>\n",
              "      <th>keywords</th>\n",
              "    </tr>\n",
              "  </thead>\n",
              "  <tbody>\n",
              "    <tr>\n",
              "      <th>0</th>\n",
              "      <td>0</td>\n",
              "      <td>False</td>\n",
              "      <td>{'id': 10194, 'name': 'Toy Story Collection', ...</td>\n",
              "      <td>30000000</td>\n",
              "      <td>[{'id': 16, 'name': 'Animation'}, {'id': 35, '...</td>\n",
              "      <td>http://toystory.disney.com/toy-story</td>\n",
              "      <td>862</td>\n",
              "      <td>tt0114709</td>\n",
              "      <td>en</td>\n",
              "      <td>Toy Story</td>\n",
              "      <td>Led by Woody, Andy's toys live happily in his ...</td>\n",
              "      <td>21.946943</td>\n",
              "      <td>/rhIRbceoE9lR4veEXuwCC2wARtG.jpg</td>\n",
              "      <td>[{'name': 'Pixar Animation Studios', 'id': 3}]</td>\n",
              "      <td>[{'iso_3166_1': 'US', 'name': 'United States o...</td>\n",
              "      <td>1995-10-30</td>\n",
              "      <td>373554033.0</td>\n",
              "      <td>81.0</td>\n",
              "      <td>[{'iso_639_1': 'en', 'name': 'English'}]</td>\n",
              "      <td>Released</td>\n",
              "      <td>NaN</td>\n",
              "      <td>Toy Story</td>\n",
              "      <td>False</td>\n",
              "      <td>7.7</td>\n",
              "      <td>5415.0</td>\n",
              "      <td>[{'cast_id': 14, 'character': 'Woody (voice)',...</td>\n",
              "      <td>[{'credit_id': '52fe4284c3a36847f8024f49', 'de...</td>\n",
              "      <td>[{'id': 931, 'name': 'jealousy'}, {'id': 4290,...</td>\n",
              "    </tr>\n",
              "    <tr>\n",
              "      <th>1</th>\n",
              "      <td>1</td>\n",
              "      <td>False</td>\n",
              "      <td>NaN</td>\n",
              "      <td>65000000</td>\n",
              "      <td>[{'id': 12, 'name': 'Adventure'}, {'id': 14, '...</td>\n",
              "      <td>NaN</td>\n",
              "      <td>8844</td>\n",
              "      <td>tt0113497</td>\n",
              "      <td>en</td>\n",
              "      <td>Jumanji</td>\n",
              "      <td>When siblings Judy and Peter discover an encha...</td>\n",
              "      <td>17.015539</td>\n",
              "      <td>/vzmL6fP7aPKNKPRTFnZmiUfciyV.jpg</td>\n",
              "      <td>[{'name': 'TriStar Pictures', 'id': 559}, {'na...</td>\n",
              "      <td>[{'iso_3166_1': 'US', 'name': 'United States o...</td>\n",
              "      <td>1995-12-15</td>\n",
              "      <td>262797249.0</td>\n",
              "      <td>104.0</td>\n",
              "      <td>[{'iso_639_1': 'en', 'name': 'English'}, {'iso...</td>\n",
              "      <td>Released</td>\n",
              "      <td>Roll the dice and unleash the excitement!</td>\n",
              "      <td>Jumanji</td>\n",
              "      <td>False</td>\n",
              "      <td>6.9</td>\n",
              "      <td>2413.0</td>\n",
              "      <td>[{'cast_id': 1, 'character': 'Alan Parrish', '...</td>\n",
              "      <td>[{'credit_id': '52fe44bfc3a36847f80a7cd1', 'de...</td>\n",
              "      <td>[{'id': 10090, 'name': 'board game'}, {'id': 1...</td>\n",
              "    </tr>\n",
              "    <tr>\n",
              "      <th>2</th>\n",
              "      <td>4</td>\n",
              "      <td>False</td>\n",
              "      <td>{'id': 96871, 'name': 'Father of the Bride Col...</td>\n",
              "      <td>0</td>\n",
              "      <td>[{'id': 35, 'name': 'Comedy'}]</td>\n",
              "      <td>NaN</td>\n",
              "      <td>11862</td>\n",
              "      <td>tt0113041</td>\n",
              "      <td>en</td>\n",
              "      <td>Father of the Bride Part II</td>\n",
              "      <td>Just when George Banks has recovered from his ...</td>\n",
              "      <td>8.387519</td>\n",
              "      <td>/e64sOI48hQXyru7naBFyssKFxVd.jpg</td>\n",
              "      <td>[{'name': 'Sandollar Productions', 'id': 5842}...</td>\n",
              "      <td>[{'iso_3166_1': 'US', 'name': 'United States o...</td>\n",
              "      <td>1995-02-10</td>\n",
              "      <td>76578911.0</td>\n",
              "      <td>106.0</td>\n",
              "      <td>[{'iso_639_1': 'en', 'name': 'English'}]</td>\n",
              "      <td>Released</td>\n",
              "      <td>Just When His World Is Back To Normal... He's ...</td>\n",
              "      <td>Father of the Bride Part II</td>\n",
              "      <td>False</td>\n",
              "      <td>5.7</td>\n",
              "      <td>173.0</td>\n",
              "      <td>[{'cast_id': 1, 'character': 'George Banks', '...</td>\n",
              "      <td>[{'credit_id': '52fe44959251416c75039ed7', 'de...</td>\n",
              "      <td>[{'id': 1009, 'name': 'baby'}, {'id': 1599, 'n...</td>\n",
              "    </tr>\n",
              "    <tr>\n",
              "      <th>3</th>\n",
              "      <td>5</td>\n",
              "      <td>False</td>\n",
              "      <td>NaN</td>\n",
              "      <td>60000000</td>\n",
              "      <td>[{'id': 28, 'name': 'Action'}, {'id': 80, 'nam...</td>\n",
              "      <td>NaN</td>\n",
              "      <td>949</td>\n",
              "      <td>tt0113277</td>\n",
              "      <td>en</td>\n",
              "      <td>Heat</td>\n",
              "      <td>Obsessive master thief, Neil McCauley leads a ...</td>\n",
              "      <td>17.924927</td>\n",
              "      <td>/zMyfPUelumio3tiDKPffaUpsQTD.jpg</td>\n",
              "      <td>[{'name': 'Regency Enterprises', 'id': 508}, {...</td>\n",
              "      <td>[{'iso_3166_1': 'US', 'name': 'United States o...</td>\n",
              "      <td>1995-12-15</td>\n",
              "      <td>187436818.0</td>\n",
              "      <td>170.0</td>\n",
              "      <td>[{'iso_639_1': 'en', 'name': 'English'}, {'iso...</td>\n",
              "      <td>Released</td>\n",
              "      <td>A Los Angeles Crime Saga</td>\n",
              "      <td>Heat</td>\n",
              "      <td>False</td>\n",
              "      <td>7.7</td>\n",
              "      <td>1886.0</td>\n",
              "      <td>[{'cast_id': 25, 'character': 'Lt. Vincent Han...</td>\n",
              "      <td>[{'credit_id': '52fe4292c3a36847f802916d', 'de...</td>\n",
              "      <td>[{'id': 642, 'name': 'robbery'}, {'id': 703, '...</td>\n",
              "    </tr>\n",
              "    <tr>\n",
              "      <th>4</th>\n",
              "      <td>8</td>\n",
              "      <td>False</td>\n",
              "      <td>NaN</td>\n",
              "      <td>35000000</td>\n",
              "      <td>[{'id': 28, 'name': 'Action'}, {'id': 12, 'nam...</td>\n",
              "      <td>NaN</td>\n",
              "      <td>9091</td>\n",
              "      <td>tt0114576</td>\n",
              "      <td>en</td>\n",
              "      <td>Sudden Death</td>\n",
              "      <td>International action superstar Jean Claude Van...</td>\n",
              "      <td>5.23158</td>\n",
              "      <td>/eoWvKD60lT95Ss1MYNgVExpo5iU.jpg</td>\n",
              "      <td>[{'name': 'Universal Pictures', 'id': 33}, {'n...</td>\n",
              "      <td>[{'iso_3166_1': 'US', 'name': 'United States o...</td>\n",
              "      <td>1995-12-22</td>\n",
              "      <td>64350171.0</td>\n",
              "      <td>106.0</td>\n",
              "      <td>[{'iso_639_1': 'en', 'name': 'English'}]</td>\n",
              "      <td>Released</td>\n",
              "      <td>Terror goes into overtime.</td>\n",
              "      <td>Sudden Death</td>\n",
              "      <td>False</td>\n",
              "      <td>5.5</td>\n",
              "      <td>174.0</td>\n",
              "      <td>[{'cast_id': 1, 'character': 'Darren Francis T...</td>\n",
              "      <td>[{'credit_id': '52fe44dbc3a36847f80ae0f1', 'de...</td>\n",
              "      <td>[{'id': 949, 'name': 'terrorist'}, {'id': 1562...</td>\n",
              "    </tr>\n",
              "  </tbody>\n",
              "</table>\n",
              "</div>"
            ],
            "text/plain": [
              "   index  ...                                           keywords\n",
              "0      0  ...  [{'id': 931, 'name': 'jealousy'}, {'id': 4290,...\n",
              "1      1  ...  [{'id': 10090, 'name': 'board game'}, {'id': 1...\n",
              "2      4  ...  [{'id': 1009, 'name': 'baby'}, {'id': 1599, 'n...\n",
              "3      5  ...  [{'id': 642, 'name': 'robbery'}, {'id': 703, '...\n",
              "4      8  ...  [{'id': 949, 'name': 'terrorist'}, {'id': 1562...\n",
              "\n",
              "[5 rows x 28 columns]"
            ]
          },
          "metadata": {
            "tags": []
          },
          "execution_count": 21
        }
      ]
    },
    {
      "cell_type": "code",
      "metadata": {
        "id": "GcmFqonzt98F",
        "colab_type": "code",
        "colab": {}
      },
      "source": [
        "# Extracting the director's name\n",
        "\n",
        "def get_director(x):\n",
        "  for i in x:\n",
        "    if i['job'] == 'Director':\n",
        "      return str(i['name'])\n",
        "  \n",
        "  return np.nan"
      ],
      "execution_count": 0,
      "outputs": []
    },
    {
      "cell_type": "code",
      "metadata": {
        "id": "68Zmsf-huRZJ",
        "colab_type": "code",
        "colab": {}
      },
      "source": [
        "# Extracting top 3 members of any list\n",
        "\n",
        "def get_list(x):\n",
        "  if isinstance(x, list):  # if x is a list\n",
        "    names = [str(i['name']) for i in x]\n",
        "    \n",
        "    if len(names) > 3:\n",
        "      names = names[:3]\n",
        "      \n",
        "    #names = list(names)\n",
        "    \n",
        "    return names\n",
        "  \n",
        "  return []"
      ],
      "execution_count": 0,
      "outputs": []
    },
    {
      "cell_type": "code",
      "metadata": {
        "id": "7lW6fyEpuzsi",
        "colab_type": "code",
        "colab": {}
      },
      "source": [
        "q_metadata['director'] = q_metadata['crew'].apply(get_director)\n",
        "\n",
        "for f in features_d:\n",
        "  q_metadata[f] = q_metadata[f].apply(get_list)"
      ],
      "execution_count": 0,
      "outputs": []
    },
    {
      "cell_type": "code",
      "metadata": {
        "id": "I1RfWAfzvIx8",
        "colab_type": "code",
        "outputId": "f2aca266-1aa0-4067-d6e8-76f12698ec79",
        "colab": {
          "base_uri": "https://localhost:8080/",
          "height": 204
        }
      },
      "source": [
        "q_metadata[['title', 'cast', 'director', 'keywords', 'genres']].head()"
      ],
      "execution_count": 0,
      "outputs": [
        {
          "output_type": "execute_result",
          "data": {
            "text/html": [
              "<div>\n",
              "<style scoped>\n",
              "    .dataframe tbody tr th:only-of-type {\n",
              "        vertical-align: middle;\n",
              "    }\n",
              "\n",
              "    .dataframe tbody tr th {\n",
              "        vertical-align: top;\n",
              "    }\n",
              "\n",
              "    .dataframe thead th {\n",
              "        text-align: right;\n",
              "    }\n",
              "</style>\n",
              "<table border=\"1\" class=\"dataframe\">\n",
              "  <thead>\n",
              "    <tr style=\"text-align: right;\">\n",
              "      <th></th>\n",
              "      <th>title</th>\n",
              "      <th>cast</th>\n",
              "      <th>director</th>\n",
              "      <th>keywords</th>\n",
              "      <th>genres</th>\n",
              "    </tr>\n",
              "  </thead>\n",
              "  <tbody>\n",
              "    <tr>\n",
              "      <th>0</th>\n",
              "      <td>Toy Story</td>\n",
              "      <td>[Tom Hanks, Tim Allen, Don Rickles]</td>\n",
              "      <td>John Lasseter</td>\n",
              "      <td>[jealousy, toy, boy]</td>\n",
              "      <td>[Animation, Comedy, Family]</td>\n",
              "    </tr>\n",
              "    <tr>\n",
              "      <th>1</th>\n",
              "      <td>Jumanji</td>\n",
              "      <td>[Robin Williams, Jonathan Hyde, Kirsten Dunst]</td>\n",
              "      <td>Joe Johnston</td>\n",
              "      <td>[board game, disappearance, based on children'...</td>\n",
              "      <td>[Adventure, Fantasy, Family]</td>\n",
              "    </tr>\n",
              "    <tr>\n",
              "      <th>2</th>\n",
              "      <td>Father of the Bride Part II</td>\n",
              "      <td>[Steve Martin, Diane Keaton, Martin Short]</td>\n",
              "      <td>Charles Shyer</td>\n",
              "      <td>[baby, midlife crisis, confidence]</td>\n",
              "      <td>[Comedy]</td>\n",
              "    </tr>\n",
              "    <tr>\n",
              "      <th>3</th>\n",
              "      <td>Heat</td>\n",
              "      <td>[Al Pacino, Robert De Niro, Val Kilmer]</td>\n",
              "      <td>Michael Mann</td>\n",
              "      <td>[robbery, detective, bank]</td>\n",
              "      <td>[Action, Crime, Drama]</td>\n",
              "    </tr>\n",
              "    <tr>\n",
              "      <th>4</th>\n",
              "      <td>Sudden Death</td>\n",
              "      <td>[Jean-Claude Van Damme, Powers Boothe, Dorian ...</td>\n",
              "      <td>Peter Hyams</td>\n",
              "      <td>[terrorist, hostage, explosive]</td>\n",
              "      <td>[Action, Adventure, Thriller]</td>\n",
              "    </tr>\n",
              "  </tbody>\n",
              "</table>\n",
              "</div>"
            ],
            "text/plain": [
              "                         title  ...                         genres\n",
              "0                    Toy Story  ...    [Animation, Comedy, Family]\n",
              "1                      Jumanji  ...   [Adventure, Fantasy, Family]\n",
              "2  Father of the Bride Part II  ...                       [Comedy]\n",
              "3                         Heat  ...         [Action, Crime, Drama]\n",
              "4                 Sudden Death  ...  [Action, Adventure, Thriller]\n",
              "\n",
              "[5 rows x 5 columns]"
            ]
          },
          "metadata": {
            "tags": []
          },
          "execution_count": 25
        }
      ]
    },
    {
      "cell_type": "code",
      "metadata": {
        "id": "2JTvHLIAw-k0",
        "colab_type": "code",
        "colab": {}
      },
      "source": [
        "def clean_data(x):\n",
        "  if isinstance(x, list):  # if x is a list\n",
        "    try:\n",
        "      return [str.lower(i.replace(' ', '')) for i in x]\n",
        "    except:\n",
        "      return ''\n",
        "  \n",
        "  else:\n",
        "    if isinstance(x, str):  # if x is name of director\n",
        "      return str.lower(x.replace(' ', ''))\n",
        "    \n",
        "    else:\n",
        "      return ''"
      ],
      "execution_count": 0,
      "outputs": []
    },
    {
      "cell_type": "code",
      "metadata": {
        "id": "KkGO5QWLxz1G",
        "colab_type": "code",
        "colab": {}
      },
      "source": [
        "for feature in features:\n",
        "  q_metadata[feature] = q_metadata[feature].apply(clean_data)"
      ],
      "execution_count": 0,
      "outputs": []
    },
    {
      "cell_type": "code",
      "metadata": {
        "id": "EqOWCUz49Fgl",
        "colab_type": "code",
        "outputId": "df00b934-ee23-481f-9774-219c952b26d0",
        "colab": {
          "base_uri": "https://localhost:8080/",
          "height": 204
        }
      },
      "source": [
        "q_metadata[['title', 'cast', 'director', 'keywords', 'genres']].head()"
      ],
      "execution_count": 0,
      "outputs": [
        {
          "output_type": "execute_result",
          "data": {
            "text/html": [
              "<div>\n",
              "<style scoped>\n",
              "    .dataframe tbody tr th:only-of-type {\n",
              "        vertical-align: middle;\n",
              "    }\n",
              "\n",
              "    .dataframe tbody tr th {\n",
              "        vertical-align: top;\n",
              "    }\n",
              "\n",
              "    .dataframe thead th {\n",
              "        text-align: right;\n",
              "    }\n",
              "</style>\n",
              "<table border=\"1\" class=\"dataframe\">\n",
              "  <thead>\n",
              "    <tr style=\"text-align: right;\">\n",
              "      <th></th>\n",
              "      <th>title</th>\n",
              "      <th>cast</th>\n",
              "      <th>director</th>\n",
              "      <th>keywords</th>\n",
              "      <th>genres</th>\n",
              "    </tr>\n",
              "  </thead>\n",
              "  <tbody>\n",
              "    <tr>\n",
              "      <th>0</th>\n",
              "      <td>Toy Story</td>\n",
              "      <td>[tomhanks, timallen, donrickles]</td>\n",
              "      <td>John Lasseter</td>\n",
              "      <td>[jealousy, toy, boy]</td>\n",
              "      <td>[animation, comedy, family]</td>\n",
              "    </tr>\n",
              "    <tr>\n",
              "      <th>1</th>\n",
              "      <td>Jumanji</td>\n",
              "      <td>[robinwilliams, jonathanhyde, kirstendunst]</td>\n",
              "      <td>Joe Johnston</td>\n",
              "      <td>[boardgame, disappearance, basedonchildren'sbook]</td>\n",
              "      <td>[adventure, fantasy, family]</td>\n",
              "    </tr>\n",
              "    <tr>\n",
              "      <th>2</th>\n",
              "      <td>Father of the Bride Part II</td>\n",
              "      <td>[stevemartin, dianekeaton, martinshort]</td>\n",
              "      <td>Charles Shyer</td>\n",
              "      <td>[baby, midlifecrisis, confidence]</td>\n",
              "      <td>[comedy]</td>\n",
              "    </tr>\n",
              "    <tr>\n",
              "      <th>3</th>\n",
              "      <td>Heat</td>\n",
              "      <td>[alpacino, robertdeniro, valkilmer]</td>\n",
              "      <td>Michael Mann</td>\n",
              "      <td>[robbery, detective, bank]</td>\n",
              "      <td>[action, crime, drama]</td>\n",
              "    </tr>\n",
              "    <tr>\n",
              "      <th>4</th>\n",
              "      <td>Sudden Death</td>\n",
              "      <td>[jean-claudevandamme, powersboothe, dorianhare...</td>\n",
              "      <td>Peter Hyams</td>\n",
              "      <td>[terrorist, hostage, explosive]</td>\n",
              "      <td>[action, adventure, thriller]</td>\n",
              "    </tr>\n",
              "  </tbody>\n",
              "</table>\n",
              "</div>"
            ],
            "text/plain": [
              "                         title  ...                         genres\n",
              "0                    Toy Story  ...    [animation, comedy, family]\n",
              "1                      Jumanji  ...   [adventure, fantasy, family]\n",
              "2  Father of the Bride Part II  ...                       [comedy]\n",
              "3                         Heat  ...         [action, crime, drama]\n",
              "4                 Sudden Death  ...  [action, adventure, thriller]\n",
              "\n",
              "[5 rows x 5 columns]"
            ]
          },
          "metadata": {
            "tags": []
          },
          "execution_count": 28
        }
      ]
    },
    {
      "cell_type": "code",
      "metadata": {
        "id": "DGbNfyLFx2nV",
        "colab_type": "code",
        "colab": {}
      },
      "source": [
        "# Creating the metadata soup\n",
        "\n",
        "def create_soup(x):\n",
        "  return ' '.join(x['keywords']) + ' ' + ' '.join(x['cast']) + ' ' + x['director'] + ' ' + ' '.join(x['genres']) "
      ],
      "execution_count": 0,
      "outputs": []
    },
    {
      "cell_type": "code",
      "metadata": {
        "id": "AgRdapoDAALk",
        "colab_type": "code",
        "outputId": "6bd0e8f7-0b37-4d08-bd25-b999cad03be7",
        "colab": {
          "base_uri": "https://localhost:8080/",
          "height": 119
        }
      },
      "source": [
        "q_metadata['soup'] = q_metadata.apply(create_soup, axis = 1)\n",
        "\n",
        "q_metadata['soup'].head()"
      ],
      "execution_count": 0,
      "outputs": [
        {
          "output_type": "execute_result",
          "data": {
            "text/plain": [
              "0    jealousy toy boy tomhanks timallen donrickles ...\n",
              "1    boardgame disappearance basedonchildren'sbook ...\n",
              "2    baby midlifecrisis confidence stevemartin dian...\n",
              "3    robbery detective bank alpacino robertdeniro v...\n",
              "4    terrorist hostage explosive jean-claudevandamm...\n",
              "Name: soup, dtype: object"
            ]
          },
          "metadata": {
            "tags": []
          },
          "execution_count": 30
        }
      ]
    },
    {
      "cell_type": "code",
      "metadata": {
        "id": "8xWqYmoFAer1",
        "colab_type": "code",
        "outputId": "d2662a97-14a1-42ea-fbfe-edc63434e6c3",
        "colab": {
          "base_uri": "https://localhost:8080/",
          "height": 34
        }
      },
      "source": [
        "# Using Count Vectorizer and creating the count matrix\n",
        "\n",
        "from sklearn.feature_extraction.text import CountVectorizer\n",
        "\n",
        "count = CountVectorizer(stop_words = 'english')\n",
        "\n",
        "count_matrix = count.fit_transform(q_metadata['soup'])\n",
        "count_matrix.shape"
      ],
      "execution_count": 0,
      "outputs": [
        {
          "output_type": "execute_result",
          "data": {
            "text/plain": [
              "(4606, 10907)"
            ]
          },
          "metadata": {
            "tags": []
          },
          "execution_count": 31
        }
      ]
    },
    {
      "cell_type": "code",
      "metadata": {
        "id": "zNTJeEcfBJw8",
        "colab_type": "code",
        "outputId": "de3f5726-aea3-4921-9771-6461d2017851",
        "colab": {
          "base_uri": "https://localhost:8080/",
          "height": 34
        }
      },
      "source": [
        "from sklearn.metrics.pairwise import cosine_similarity\n",
        "\n",
        "cosine_sim2 = cosine_similarity(count_matrix, count_matrix)\n",
        "cosine_sim2.shape"
      ],
      "execution_count": 0,
      "outputs": [
        {
          "output_type": "execute_result",
          "data": {
            "text/plain": [
              "(4606, 4606)"
            ]
          },
          "metadata": {
            "tags": []
          },
          "execution_count": 32
        }
      ]
    },
    {
      "cell_type": "code",
      "metadata": {
        "id": "94W9CTrSBVmH",
        "colab_type": "code",
        "colab": {}
      },
      "source": [
        "q_metadata = q_metadata.reset_index()\n",
        "\n",
        "indices = pd.Series(q_metadata.index, index = q_metadata['title'])"
      ],
      "execution_count": 0,
      "outputs": []
    },
    {
      "cell_type": "code",
      "metadata": {
        "id": "eGWm8KpaBw1u",
        "colab_type": "code",
        "outputId": "38775c98-8e45-4b39-babd-b63815bde70b",
        "colab": {
          "base_uri": "https://localhost:8080/",
          "height": 204
        }
      },
      "source": [
        "get_recommendations('The Dark Knight Rises', cosine_sim2)"
      ],
      "execution_count": 0,
      "outputs": [
        {
          "output_type": "execute_result",
          "data": {
            "text/plain": [
              "2411            The Dark Knight\n",
              "1956              Batman Begins\n",
              "2176               The Prestige\n",
              "815                   Following\n",
              "4592                    Dunkirk\n",
              "4014    Kidnapping Mr. Heineken\n",
              "1783                   Catwoman\n",
              "2930                     Faster\n",
              "3026                     Takers\n",
              "3102                 The Double\n",
              "Name: title, dtype: object"
            ]
          },
          "metadata": {
            "tags": []
          },
          "execution_count": 34
        }
      ]
    },
    {
      "cell_type": "code",
      "metadata": {
        "id": "oT8D1IAHB-W-",
        "colab_type": "code",
        "outputId": "1a5a0a01-99fa-466d-d374-1a511eb55c34",
        "colab": {
          "base_uri": "https://localhost:8080/",
          "height": 204
        }
      },
      "source": [
        "get_recommendations('John Wick', cosine_sim2)"
      ],
      "execution_count": 0,
      "outputs": [
        {
          "output_type": "execute_result",
          "data": {
            "text/plain": [
              "4521                     John Wick: Chapter 2\n",
              "3708                                     Rage\n",
              "98                             The Specialist\n",
              "3932                                  Taken 3\n",
              "1227                              Point Break\n",
              "2305                                      War\n",
              "2737    The Girl Who Kicked the Hornet's Nest\n",
              "2753            The Girl Who Played with Fire\n",
              "3514                                  Riddick\n",
              "523                                The Jackal\n",
              "Name: title, dtype: object"
            ]
          },
          "metadata": {
            "tags": []
          },
          "execution_count": 50
        }
      ]
    },
    {
      "cell_type": "code",
      "metadata": {
        "id": "kwa-5F5VX7nm",
        "colab_type": "code",
        "colab": {}
      },
      "source": [
        ""
      ],
      "execution_count": 0,
      "outputs": []
    }
  ]
}